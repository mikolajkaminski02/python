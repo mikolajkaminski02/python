{
 "cells": [
  {
   "cell_type": "markdown",
   "metadata": {},
   "source": [
    "# <div style=\"text-align: center\"> Introduction to Python and Machine Learning\n",
    "\n",
    "## <div style=\"text-align: center\">Introduction to Statistics in Python - Stats II"
   ]
  },
  {
   "cell_type": "markdown",
   "metadata": {},
   "source": [
    "---"
   ]
  },
  {
   "cell_type": "markdown",
   "metadata": {},
   "source": [
    "We have conducted the exploratory analysis of our tips dataset. We will answer today the research question about the differences in average amount of tips of female and male waiters. "
   ]
  },
  {
   "cell_type": "markdown",
   "metadata": {},
   "source": [
    "About this dataset: https://www.kaggle.com/ranjeetjain3/seaborn-tips-dataset"
   ]
  },
  {
   "cell_type": "code",
   "execution_count": null,
   "metadata": {},
   "outputs": [],
   "source": [
    "import numpy as np\n",
    "import pandas as pd\n",
    "from datetime import datetime as dt\n",
    "\n",
    "import os\n",
    "\n",
    "import matplotlib.pyplot as plt\n",
    "import seaborn as sns\n",
    "%matplotlib inline\n",
    "from scipy import stats "
   ]
  },
  {
   "cell_type": "code",
   "execution_count": null,
   "metadata": {},
   "outputs": [],
   "source": [
    "dataset_names = sns.get_dataset_names()\n",
    "print(dataset_names)"
   ]
  },
  {
   "cell_type": "code",
   "execution_count": null,
   "metadata": {},
   "outputs": [],
   "source": [
    "tips = sns.load_dataset('tips')"
   ]
  },
  {
   "cell_type": "code",
   "execution_count": null,
   "metadata": {},
   "outputs": [],
   "source": [
    "tips.head()"
   ]
  },
  {
   "cell_type": "markdown",
   "metadata": {},
   "source": [
    "### Standard Error\n",
    "\n",
    "It is a measure of how far the estimate to be off, on average. More technically, it is the standard deviation of the sampling distribution of a statistic (mostly the mean). Please do not confuse it with *standard deviation*. Standard deviation is a measure of the variability of the observed quantity. Standard error, on the other hand, describes variability of the estimate. \n",
    "\n",
    "To illustrate this, let's do the following."
   ]
  },
  {
   "cell_type": "code",
   "execution_count": null,
   "metadata": {},
   "outputs": [],
   "source": [
    "print(\"Sample Mean:\", tips.tip.mean(), \"\\n\", \"Sample Standard Deviation:\", tips.tip.std())"
   ]
  },
  {
   "cell_type": "code",
   "execution_count": null,
   "metadata": {},
   "outputs": [],
   "source": [
    "sns.distplot(tips.tip)\n",
    "plt.axvline(x=np.mean(tips.tip), color='red')"
   ]
  },
  {
   "cell_type": "code",
   "execution_count": null,
   "metadata": {},
   "outputs": [],
   "source": [
    "from scipy.stats import sem"
   ]
  },
  {
   "cell_type": "code",
   "execution_count": null,
   "metadata": {},
   "outputs": [],
   "source": [
    "sem(tips.tip, ddof=0)"
   ]
  },
  {
   "cell_type": "markdown",
   "metadata": {},
   "source": [
    "Lets try to manually compute the same statistics."
   ]
  },
  {
   "cell_type": "code",
   "execution_count": null,
   "metadata": {},
   "outputs": [],
   "source": [
    "print(np.std(tips.tip)/np.sqrt(len(tips.tip)))"
   ]
  },
  {
   "cell_type": "markdown",
   "metadata": {},
   "source": [
    "---"
   ]
  },
  {
   "cell_type": "markdown",
   "metadata": {},
   "source": [
    "### Confidence intervals"
   ]
  },
  {
   "cell_type": "markdown",
   "metadata": {},
   "source": [
    "The most often you will see 95% confidence intervals (CI). What does they mean? The interpretation is simple - when we draw samples from the population and calculate the mean of each of them, 95% will be expected to be within the particular range. This range is almost two standard errors (1.96) above and two (1.96) below the **mean of those sample means** (1.96 because it gives us interval that cover 95% of population)."
   ]
  },
  {
   "cell_type": "code",
   "execution_count": null,
   "metadata": {},
   "outputs": [],
   "source": [
    "print(\"Sample Mean:\", tips.tip.mean(), \"\\n\", \"Sample Standard Deviation:\", tips.tip.std())"
   ]
  },
  {
   "cell_type": "code",
   "execution_count": null,
   "metadata": {},
   "outputs": [],
   "source": [
    "from scipy.stats import norm"
   ]
  },
  {
   "cell_type": "code",
   "execution_count": null,
   "metadata": {},
   "outputs": [],
   "source": [
    "#Confidence interval on the mean\n",
    "norm.interval(0.95, loc=tips.tip.mean(), scale = tips.tip.std()/np.sqrt(len(tips)))"
   ]
  },
  {
   "cell_type": "markdown",
   "metadata": {},
   "source": [
    "Lets try to manually calculate CI."
   ]
  },
  {
   "cell_type": "code",
   "execution_count": null,
   "metadata": {},
   "outputs": [],
   "source": [
    "tips.tip.mean() + (1.96 * sem(tips.tip, ddof=1))"
   ]
  },
  {
   "cell_type": "code",
   "execution_count": null,
   "metadata": {},
   "outputs": [],
   "source": [
    "tips.tip.mean() - (1.96 * sem(tips.tip, ddof=1))"
   ]
  },
  {
   "cell_type": "markdown",
   "metadata": {},
   "source": [
    "There is only a 5% chance that the range 2.82 and 3.17 excludes the mean of the population."
   ]
  },
  {
   "cell_type": "code",
   "execution_count": null,
   "metadata": {},
   "outputs": [],
   "source": [
    "sns.pointplot(tips.tip) #pointplot visualises confidence intervals"
   ]
  },
  {
   "cell_type": "markdown",
   "metadata": {},
   "source": [
    "Null hypothesis testing - approach which allows us to confirm or reject our predictions regarding reality."
   ]
  },
  {
   "cell_type": "markdown",
   "metadata": {},
   "source": [
    "# Hypothesis Testing\n",
    "\n",
    "\n",
    "We would like to know if the effects we see in the sample (observed data) are likely to occur in the population. \n",
    "\n",
    "The way classical hypothesis testing works is by conducting a statistical test to answer the following question:\n",
    "> Given the sample and an effect, what is the probability of seeing that effect just by chance?\n",
    "\n",
    "Here are the steps on how we would do this\n",
    "\n",
    "1. Define null and alternative hypothesis - something you want to test\n",
    "<br> H0 - absence of the effect\n",
    "<br>H1 - presence of the effect\n",
    "2. Specify significance level (alpha = 0.05 typically)\n",
    "2. Generate sample and compute test statistic\n",
    "3. Compute p-value (probability of our result being false)\n",
    "4. Compare p to alpha\n",
    "5. Interpret the result (p-value lower than 0.05 - reject the null hypothesis about no effect)\n",
    "\n",
    "If p-value is very low (most often than now, below 0.05), the effect is considered statistically significant. That means that effect is unlikely to have occured by chance. The inference? The effect is likely to be seen in the population too. \n",
    "\n",
    "This process is very similar to the *proof by contradiction* paradigm. We first assume that the effect is false. That's the null hypothesis. Next step is to compute the probability of obtaining that effect (the p-value). If p-value is very low(<0.05 as a rule of thumb), we reject the null hypothesis. "
   ]
  },
  {
   "cell_type": "markdown",
   "metadata": {},
   "source": [
    "## Question: Are tips significantly different for males in comparison to females?"
   ]
  },
  {
   "cell_type": "markdown",
   "metadata": {},
   "source": [
    "### Independent samples t-test (between-subject)."
   ]
  },
  {
   "cell_type": "markdown",
   "metadata": {},
   "source": [
    "**Null Hypothesis**: Mean tips aren't significantly different for males and females.\n",
    "<br>**Alternative Hypothesis**: Mean tips are significantly different for males and females.\n",
    "\n",
    "Perform **t-test** and determine the p-value. "
   ]
  },
  {
   "cell_type": "code",
   "execution_count": null,
   "metadata": {},
   "outputs": [],
   "source": [
    "males_tips = tips[tips['sex']=='Male']\n",
    "females_tips = tips[tips['sex']=='Female']"
   ]
  },
  {
   "cell_type": "markdown",
   "metadata": {},
   "source": [
    "### Assumption of t-test\n",
    "\n",
    "One assumption is that variances in two groups are equal which can be tested using [Levene test for equal variances](https://en.wikipedia.org/wiki/Levene%27s_test). If p-value is less than 0.05, then we cannot rejest hypothesis that variances are NOT equal."
   ]
  },
  {
   "cell_type": "markdown",
   "metadata": {},
   "source": [
    "H0: variances in groups are equal.\n",
    "<br> H1: variances in groups are not equal."
   ]
  },
  {
   "cell_type": "code",
   "execution_count": null,
   "metadata": {},
   "outputs": [],
   "source": [
    "stats.levene(males_tips['tip'], females_tips['tip'])"
   ]
  },
  {
   "cell_type": "markdown",
   "metadata": {},
   "source": [
    "Another assumption is that the data used came from a normal distribution. \n",
    "<br>\n",
    "There's a [Shapiro-Wilk test](https://en.wikipedia.org/wiki/Shapiro-Wilk) to test for normality. If p-value is less than 0.05, then there's a low chance that the distribution is normal."
   ]
  },
  {
   "cell_type": "markdown",
   "metadata": {},
   "source": [
    "H0: variable in population is normally distributed. \n",
    "<br> H1: variable in population is non-normally distributed."
   ]
  },
  {
   "cell_type": "code",
   "execution_count": null,
   "metadata": {},
   "outputs": [],
   "source": [
    "stats.shapiro(males_tips['tip'])"
   ]
  },
  {
   "cell_type": "code",
   "execution_count": null,
   "metadata": {},
   "outputs": [],
   "source": [
    "stats.shapiro(females_tips['tip'])"
   ]
  },
  {
   "cell_type": "code",
   "execution_count": null,
   "metadata": {},
   "outputs": [],
   "source": [
    "print(stats.shapiro(males_tips['tip']), stats.shapiro(females_tips['tip'])) #to write it in one line"
   ]
  },
  {
   "cell_type": "markdown",
   "metadata": {},
   "source": [
    "Distribution is different from normal. T-test can be performed only if your sample size is big."
   ]
  },
  {
   "cell_type": "code",
   "execution_count": null,
   "metadata": {
    "scrolled": true
   },
   "outputs": [],
   "source": [
    "stats.ttest_ind(males_tips['tip'], females_tips['tip'], equal_var=True)"
   ]
  },
  {
   "cell_type": "markdown",
   "metadata": {},
   "source": [
    "P-value is the probability that the effect obtrained was by chance. And here, p-value is above 0 - not-significant difference between males and females in the amount of tips."
   ]
  },
  {
   "cell_type": "markdown",
   "metadata": {},
   "source": [
    "But as the assumption of normality was not met - better to calculate nonparametric test which does not have this assumption."
   ]
  },
  {
   "cell_type": "code",
   "execution_count": null,
   "metadata": {},
   "outputs": [],
   "source": [
    "from scipy.stats import mannwhitneyu"
   ]
  },
  {
   "cell_type": "code",
   "execution_count": null,
   "metadata": {},
   "outputs": [],
   "source": [
    "mannwhitneyu(males_tips['tip'], females_tips['tip'])"
   ]
  },
  {
   "cell_type": "markdown",
   "metadata": {},
   "source": [
    "Both tests show that there is no difference between the males and females in the amount of tips."
   ]
  },
  {
   "cell_type": "code",
   "execution_count": null,
   "metadata": {},
   "outputs": [],
   "source": [
    "plt.figure(figsize=(15,5))\n",
    "sns.distplot(females_tips['tip'])\n",
    "\n",
    "sns.distplot(males_tips['tip'])"
   ]
  },
  {
   "cell_type": "markdown",
   "metadata": {},
   "source": [
    "Write the interpretation of the result here:\n",
    "<br>\n",
    "t test (statistic) value = \n",
    "<br>\n",
    "p = \n",
    "<br>\n",
    "\n",
    "This means that ..."
   ]
  },
  {
   "cell_type": "markdown",
   "metadata": {},
   "source": [
    "For significant results calculate also effect size - standardized measure of strength of effect."
   ]
  },
  {
   "cell_type": "code",
   "execution_count": null,
   "metadata": {},
   "outputs": [],
   "source": [
    "import numpy\n",
    "def CohenEffectSize(group1, group2):\n",
    "    \"\"\"Compute Cohen's d.\n",
    "\n",
    "    group1: Series or NumPy array\n",
    "    group2: Series or NumPy array\n",
    "\n",
    "    returns: float\n",
    "    \"\"\"\n",
    "    diff = group1.mean() - group2.mean()\n",
    "\n",
    "    n1, n2 = len(group1), len(group2)\n",
    "    var1 = group1.var()\n",
    "    var2 = group2.var()\n",
    "\n",
    "    pooled_var = (n1 * var1 + n2 * var2) / (n1 + n2)\n",
    "    d = diff / numpy.sqrt(pooled_var)\n",
    "    return d"
   ]
  },
  {
   "cell_type": "code",
   "execution_count": null,
   "metadata": {},
   "outputs": [],
   "source": [
    "CohenEffectSize(females_tips['tip'], males_tips['tip'])"
   ]
  },
  {
   "cell_type": "markdown",
   "metadata": {},
   "source": [
    "### Paired-samples t-test - for dependent groups (within-subject effects)."
   ]
  },
  {
   "cell_type": "markdown",
   "metadata": {},
   "source": [
    "In case of this analysis, groups should either contain same participants or some meaningfully paired samples. \n",
    "\n",
    "Example can be measuring an effectiveness of new drug on one group using pretest and posttest measurements. We compare how people were feeling after receiving this new drug in comparison to before administing this drug."
   ]
  },
  {
   "cell_type": "markdown",
   "metadata": {},
   "source": [
    "Download the data from [Kaggle](https://www.kaggle.com/kwadwoofosu/predict-test-scores-of-students). This dataset contains information about students results on writing test completed before and after the peer assesment intervention. "
   ]
  },
  {
   "cell_type": "code",
   "execution_count": null,
   "metadata": {},
   "outputs": [],
   "source": [
    "from scipy import stats\n",
    "import scipy as sp\n",
    "import numpy as np\n",
    "from matplotlib import pyplot as plt\n",
    "%matplotlib inline\n",
    "import pandas as pd\n",
    "import seaborn as sns\n",
    "import statistics"
   ]
  },
  {
   "cell_type": "code",
   "execution_count": null,
   "metadata": {},
   "outputs": [],
   "source": [
    "grades = pd.read_csv (r'/Users/akovbasiuk/Desktop/SPINAKER/Class 7/test_scores.csv')"
   ]
  },
  {
   "cell_type": "code",
   "execution_count": null,
   "metadata": {},
   "outputs": [],
   "source": [
    "grades.head()"
   ]
  },
  {
   "cell_type": "markdown",
   "metadata": {},
   "source": [
    "## Question: Was the intervention effective? Have students received different points in pretest and posttest measurements?"
   ]
  },
  {
   "cell_type": "markdown",
   "metadata": {},
   "source": [
    "<div class=\"alert alert-block alert-success\">\n",
    "⚠️TASK 1 (1 min)\n",
    "<br>\n",
    "\n",
    "In order to conduct related samples t-test length of your two features should be identical. Check if the length of `pretest` is the same as `posttest`.\n",
    "    \n",
    "</div>"
   ]
  },
  {
   "cell_type": "code",
   "execution_count": null,
   "metadata": {},
   "outputs": [],
   "source": []
  },
  {
   "cell_type": "markdown",
   "metadata": {},
   "source": [
    "<div class=\"alert alert-block alert-success\">\n",
    "⚠️TASK 2 (4 min)\n",
    "<br>\n",
    "\n",
    "Conduct related samples testing using Students t test. Assumptions are: normality of distribution in both samples, significant sample size and related samples.\n",
    "\n",
    "</div>"
   ]
  },
  {
   "cell_type": "code",
   "execution_count": null,
   "metadata": {},
   "outputs": [],
   "source": []
  },
  {
   "cell_type": "code",
   "execution_count": null,
   "metadata": {},
   "outputs": [],
   "source": []
  },
  {
   "cell_type": "code",
   "execution_count": null,
   "metadata": {},
   "outputs": [],
   "source": []
  },
  {
   "cell_type": "markdown",
   "metadata": {},
   "source": [
    "<div class=\"alert alert-block alert-success\">\n",
    "⚠️TASK 3 (1 min)\n",
    "<br>\n",
    "\n",
    "Was the intervention effective? Compare means to find out.\n",
    "\n",
    "</div>"
   ]
  },
  {
   "cell_type": "code",
   "execution_count": null,
   "metadata": {},
   "outputs": [],
   "source": []
  },
  {
   "cell_type": "markdown",
   "metadata": {},
   "source": [
    "Write the interpretation of the result here:\n",
    "<br>\n",
    "t test (statistic) value = \n",
    "<br>\n",
    "p = \n",
    "<br>\n",
    "\n",
    "This means that ..."
   ]
  },
  {
   "cell_type": "markdown",
   "metadata": {},
   "source": [
    "<div class=\"alert alert-block alert-success\">\n",
    "⚠️TASK 4 (5 min)\n",
    "<br>\n",
    "\n",
    "Now think about which test should be performed to check if there were differences in students post-test grades depending on `teaching methods`. At first check unique values of variable `teaching method`, assumptions and conduct proper analysis.\n",
    "If the results were significant, check which mean was higher and report effect size. Visualize results using distribution plot and pointplot. Try to visualize individual points together with pointplot. \n",
    "    \n",
    "</div>"
   ]
  },
  {
   "cell_type": "code",
   "execution_count": null,
   "metadata": {},
   "outputs": [],
   "source": []
  },
  {
   "cell_type": "code",
   "execution_count": null,
   "metadata": {},
   "outputs": [],
   "source": []
  },
  {
   "cell_type": "code",
   "execution_count": null,
   "metadata": {},
   "outputs": [],
   "source": []
  },
  {
   "cell_type": "code",
   "execution_count": null,
   "metadata": {},
   "outputs": [],
   "source": []
  },
  {
   "cell_type": "code",
   "execution_count": null,
   "metadata": {},
   "outputs": [],
   "source": []
  },
  {
   "cell_type": "code",
   "execution_count": null,
   "metadata": {},
   "outputs": [],
   "source": []
  },
  {
   "cell_type": "code",
   "execution_count": null,
   "metadata": {},
   "outputs": [],
   "source": []
  },
  {
   "cell_type": "markdown",
   "metadata": {},
   "source": [
    "#### Consequences of broken assumptions\n",
    "T-tests are tolerant for data not meeting normality assumption, but your sample size should be large and have equal counts in groups. Non-parametric tests are more conservative, which means that its more difficult to detect significant effect using them.\n",
    "\n",
    "General idea: first try to conduct parametric test and if assumptions are broken - conduct non-parametric alternative."
   ]
  },
  {
   "cell_type": "markdown",
   "metadata": {},
   "source": [
    "Now we know how to:\n",
    "* explore relationship between variables (correlation) (two continuous variables)\n",
    "* test normality of distribution and homogeneity of variance\n",
    "* compare two repeated samples (two continuous variables)\n",
    "* compare two independent groups (continuous DV and binary IV)\n",
    "\n",
    "Which test to use if we want to understand the relationship between two categorical variables?"
   ]
  },
  {
   "cell_type": "markdown",
   "metadata": {},
   "source": [
    "### Chi-square test of independency of variables"
   ]
  },
  {
   "cell_type": "markdown",
   "metadata": {},
   "source": [
    "H0: categorical variables are independent\n",
    "<br>H1: categorical variables are dependent"
   ]
  },
  {
   "cell_type": "code",
   "execution_count": null,
   "metadata": {},
   "outputs": [],
   "source": [
    "from scipy.stats import chi2_contingency"
   ]
  },
  {
   "cell_type": "markdown",
   "metadata": {},
   "source": [
    "<div class=\"alert alert-block alert-success\">\n",
    "⚠️TASK 4 (5 min)\n",
    "<br>\n",
    "\n",
    "Check unique values in `school type` and `school setting` and create crosstab/contingency table using pandas library. \n",
    "    \n",
    "</div>"
   ]
  },
  {
   "cell_type": "code",
   "execution_count": null,
   "metadata": {},
   "outputs": [],
   "source": []
  },
  {
   "cell_type": "code",
   "execution_count": null,
   "metadata": {},
   "outputs": [],
   "source": []
  },
  {
   "cell_type": "code",
   "execution_count": null,
   "metadata": {},
   "outputs": [],
   "source": []
  },
  {
   "cell_type": "markdown",
   "metadata": {},
   "source": [
    "Now lets calculate Chi-square test. "
   ]
  },
  {
   "cell_type": "code",
   "execution_count": null,
   "metadata": {},
   "outputs": [],
   "source": []
  },
  {
   "cell_type": "markdown",
   "metadata": {},
   "source": [
    "Returns: \n",
    "* chi2float - the test statistic.\n",
    "* pfloat - p-value of the test\n",
    "* dofint - degrees of freedom\n",
    "* expectedndarray - same shape as observed in contingency table."
   ]
  },
  {
   "cell_type": "markdown",
   "metadata": {},
   "source": [
    "Is there a dependency between our variables?"
   ]
  },
  {
   "cell_type": "markdown",
   "metadata": {},
   "source": [
    "## What to do if you want to compare more groups"
   ]
  },
  {
   "cell_type": "markdown",
   "metadata": {},
   "source": [
    "Analysis of variance and its various types are not in the scope of this course. You can read about them more [here](https://en.wikipedia.org/wiki/Analysis_of_variance)"
   ]
  },
  {
   "cell_type": "markdown",
   "metadata": {},
   "source": [
    "## What to study next"
   ]
  },
  {
   "cell_type": "markdown",
   "metadata": {},
   "source": [
    "Read about the [interaction](https://en.wikipedia.org/wiki/Interaction_(statistics) which better represents the complexity of our world than just simple relationships between variables."
   ]
  }
 ],
 "metadata": {
  "kernelspec": {
   "display_name": "Python 3 (ipykernel)",
   "language": "python",
   "name": "python3"
  },
  "language_info": {
   "codemirror_mode": {
    "name": "ipython",
    "version": 3
   },
   "file_extension": ".py",
   "mimetype": "text/x-python",
   "name": "python",
   "nbconvert_exporter": "python",
   "pygments_lexer": "ipython3",
   "version": "3.8.8"
  }
 },
 "nbformat": 4,
 "nbformat_minor": 2
}
